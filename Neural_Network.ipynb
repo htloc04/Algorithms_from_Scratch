{
  "nbformat": 4,
  "nbformat_minor": 0,
  "metadata": {
    "accelerator": "GPU",
    "colab": {
      "name": "Neural_Network.ipynb",
      "provenance": [],
      "collapsed_sections": []
    },
    "kernelspec": {
      "display_name": "Python 3",
      "name": "python3"
    },
    "language_info": {
      "name": "python"
    }
  },
  "cells": [
    {
      "cell_type": "markdown",
      "metadata": {
        "id": "iHS79xXAjlG4"
      },
      "source": [
        "# ***Neural Netword from Scratch***"
      ]
    },
    {
      "cell_type": "code",
      "metadata": {
        "colab": {
          "base_uri": "https://localhost:8080/"
        },
        "id": "CPz-DysIjiCJ",
        "outputId": "59e6ab67-79fa-42cc-edb3-185b7553f7d1"
      },
      "source": [
        "from google.colab import drive\n",
        "drive.mount('/content/drive')"
      ],
      "execution_count": null,
      "outputs": [
        {
          "output_type": "stream",
          "name": "stdout",
          "text": [
            "Mounted at /content/drive\n"
          ]
        }
      ]
    },
    {
      "cell_type": "code",
      "metadata": {
        "id": "0e29NcABjxsR"
      },
      "source": [
        "import matplotlib.pyplot as plt\n",
        "import numpy as np\n",
        "import pandas as pd"
      ],
      "execution_count": null,
      "outputs": []
    },
    {
      "cell_type": "code",
      "metadata": {
        "id": "7ADO3nCVj0K_"
      },
      "source": [
        "# Activation function\n",
        "\n",
        "#   1. Relu(x)\n",
        "def relu(x):\n",
        "  return np.maximum(x, 0)\n",
        "\n",
        "#   2. Softmax(x)\n",
        "def softmax(x):\n",
        "  expX = np.exp(x)\n",
        "  sum = np.sum(expX, axis = 1) \n",
        "  for i in range(x.shape[0]):\n",
        "    expX[i] /= sum[i]\n",
        "  return expX"
      ],
      "execution_count": null,
      "outputs": []
    },
    {
      "cell_type": "code",
      "metadata": {
        "id": "qqliSJ7mj0ro"
      },
      "source": [
        "def relu_der(x):\n",
        "    return np.array(x > 0, dtype = np.int64)"
      ],
      "execution_count": null,
      "outputs": []
    },
    {
      "cell_type": "markdown",
      "metadata": {
        "id": "99aIBFd3Oty7"
      },
      "source": [
        "# ***Neural Netword with L2_Regularization and Dropout***\n",
        "\n",
        "https://github.com/Coding-Lane/L2-Regularization/blob/main/Assignment%20-%20L2%20Regularization%20.ipynb"
      ]
    },
    {
      "cell_type": "code",
      "metadata": {
        "id": "H7qv-icoj190"
      },
      "source": [
        "class Neural_Network:\n",
        "  def __init__(self, layers, alpha, m):\n",
        "    self.layers = layers\n",
        "    self.learning_rate = alpha\n",
        "    self.m = m\n",
        "    self.W = []\n",
        "    self.B = []\n",
        "    #   Initialize weights & bias\n",
        "    for i in range(len(self.layers) - 1):\n",
        "      w_ = np.random.rand(self.layers[i], self.layers[i+1]) - 0.5\n",
        "      self.W.append(w_)\n",
        "      b_ = np.random.rand(1, layers[i+1]) - 0.5\n",
        "      self.B.append(b_)\n",
        "\n",
        "  def train(self, X_train, Y_train):\n",
        "    # ================ Forward Propagation ===============\n",
        "    A = [X_train]\n",
        "    for i in range(len(self.layers) - 2):\n",
        "      # Hidden layes use Relu_func\n",
        "      A.append(relu(np.dot(A[-1], self.W[i]) + self.B[i]))\n",
        "    #  Output layer uses Softmax_func\n",
        "    A.append(softmax(np.dot(A[-1], self.W[-1]) + self.B[-1]))\n",
        "\n",
        "    # ================ Backward Propagation ================\n",
        "    A_der = [A[-1] - Y_train]\n",
        "    W_der = []\n",
        "    B_der = []\n",
        "    for i in reversed(range(len(self.layers) - 1)):\n",
        "        W_ = (1/self.m) * np.dot(A[i].T, A_der[-1]) + (lambd/self.m)*self.W[i]\n",
        "        B_ = (1/self.m) * np.sum(A_der[-1], axis = 0, keepdims = True)  \n",
        "        A_ = np.dot(A_der[-1], self.W[i].T) * relu_der(A[i])\n",
        "        W_der.append(W_)\n",
        "        B_der.append(B_)\n",
        "        A_der.append(A_)\n",
        "\n",
        "    # Đảo ngược W_der & B_der\n",
        "    W_der = W_der[::-1]\n",
        "    B_der = B_der[::-1]\n",
        "\n",
        "    #   Gradient Descend\n",
        "    for i in range(len(self.layers) - 1):\n",
        "      self.W[i] -= self.learning_rate * W_der[i]\n",
        "      self.B[i] -= self.learning_rate * B_der[i]\n",
        "\n",
        "  #  Dự đoán:\n",
        "  def predict(self, X_train):\n",
        "    for i in range(len(self.layers) - 2):\n",
        "      X_train = relu(np.dot(X_train, self.W[i]) + self.B[i])\n",
        "    X_train = softmax(np.dot(X_train, self.W[-1]) + self.B[-1])\n",
        "    return X_train\n",
        "\n",
        "  #   Categorical Cross Entropy\n",
        "  def calc_cost(self, X_train, Y_train, lambd):\n",
        "    pred = self.predict(X_train) \n",
        "    cost = -(1/self.m) * np.sum(Y_train * np.log(pred))\n",
        "    L2_regularization = (lambd)/(2*self.m)*(np.sum(np.square(self.W[0])) + np.sum(np.square(self.W[1])) + np.sum(np.square(self.W[2])))\n",
        "    return cost + L2_regularization\n",
        "\n",
        "  def fit_data(self, X_train, Y_train, lambd, epoches):\n",
        "    cost_his = []\n",
        "    for epoch in range(epoches):\n",
        "      self.train(X_train, Y_train)\n",
        "      cost_his.append(self.calc_cost(X_train, Y_train, lambd))\n",
        "    return cost_his\n",
        "\n",
        "  #   Calculate accuracy \n",
        "  def Calc_acc(self, X_data, labels):\n",
        "    output = self.predict(X_data)\n",
        "    a_out = np.argmax(output, axis = 1)\n",
        "    label = np.argmax(labels, axis = 1)\n",
        "    acc = np.mean(a_out == label) * 100\n",
        "    return acc"
      ],
      "execution_count": null,
      "outputs": []
    },
    {
      "cell_type": "code",
      "metadata": {
        "colab": {
          "base_uri": "https://localhost:8080/"
        },
        "id": "XUJLRGT_HSCy",
        "outputId": "8488ce25-8998-47e1-8653-fb2bf772a13b"
      },
      "source": [
        "cd /content/drive/MyDrive/Basic_DeepLearning/Neural_Network"
      ],
      "execution_count": null,
      "outputs": [
        {
          "output_type": "stream",
          "name": "stdout",
          "text": [
            "/content/drive/MyDrive/Basic_DeepLearning/Neural_Network\n"
          ]
        }
      ]
    },
    {
      "cell_type": "code",
      "metadata": {
        "id": "PTdZcsdrj4vV"
      },
      "source": [
        "X_train = pd.read_csv(\"train_X.csv\", header = None).values\n",
        "Y_train = pd.read_csv(\"train_label.csv\", header = None).values\n",
        "X_test = pd.read_csv(\"test_X.csv\", header = None).values\n",
        "Y_test = pd.read_csv(\"test_label.csv\", header = None).values"
      ],
      "execution_count": null,
      "outputs": []
    },
    {
      "cell_type": "code",
      "metadata": {
        "id": "KuANIPTzj6Nw"
      },
      "source": [
        "#   Normalize train_data & test_data\n",
        "X_train = X_train / 255\n",
        "X_test = X_test / 255"
      ],
      "execution_count": null,
      "outputs": []
    },
    {
      "cell_type": "code",
      "metadata": {
        "colab": {
          "base_uri": "https://localhost:8080/",
          "height": 252
        },
        "id": "VkL_DYNgj7i6",
        "outputId": "605b1176-8b91-4ab6-a824-2c480d584899"
      },
      "source": [
        "index = np.random.randint(X_train.shape[0])\n",
        "plt.imshow(X_train[index, :].reshape(28, 28), cmap = 'gray')\n",
        "plt.xticks([])\n",
        "plt.yticks([])\n",
        "plt.show()"
      ],
      "execution_count": null,
      "outputs": [
        {
          "output_type": "display_data",
          "data": {
            "image/png": "[encoded data removed]",
            "text/plain": [
              "<Figure size 432x288 with 1 Axes>"
            ]
          },
          "metadata": {}
        }
      ]
    },
    {
      "cell_type": "code",
      "metadata": {
        "colab": {
          "background_save": true,
          "base_uri": "https://localhost:8080/"
        },
        "id": "l069WX6Aj8zC",
        "outputId": "f794f11c-082b-4fac-8b86-4da0c64b8737"
      },
      "source": [
        "learning_rate = 0.08\n",
        "epoches = 10000\n",
        "# Set number of layer & node\n",
        "input_layer = X_train.shape[1]   #  784\n",
        "hidden_1 = 512\n",
        "hidden_2 = 256\n",
        "#hidden_3 = 128\n",
        "output_layer = 10\n",
        "m = X_train.shape[0]\n",
        "lambd = 0.7\n",
        "\n",
        "net = Neural_Network([input_layer, hidden_1, hidden_2, output_layer], learning_rate, m)\n",
        "cost = net.fit_data(X_train, Y_train, lambd, epoches)\n",
        "print('COST: ', cost)"
      ],
      "execution_count": null,
      "outputs": [
        {
          "output_type": "stream",
          "name": "stderr",
          "text": [
            "/usr/local/lib/python3.7/dist-packages/ipykernel_launcher.py:55: RuntimeWarning: divide by zero encountered in log\n",
            "/usr/local/lib/python3.7/dist-packages/ipykernel_launcher.py:55: RuntimeWarning: invalid value encountered in multiply\n"
          ]
        }
      ]
    },
    {
      "cell_type": "code",
      "metadata": {
        "colab": {
          "base_uri": "https://localhost:8080/",
          "height": 279
        },
        "id": "bC9rMWMOHsdX",
        "outputId": "1478d4ca-8ec0-4377-b8de-1f270d1ec159"
      },
      "source": [
        "#   Vẽ đồ thị epoch và loss\n",
        "plt.plot(cost)\n",
        "plt.xlabel(\"epoch\")\n",
        "plt.ylabel(\"loss\");"
      ],
      "execution_count": null,
      "outputs": [
        {
          "data": {
            "image/png": "[encoded data removed]",
            "text/plain": [
              "<Figure size 432x288 with 1 Axes>"
            ]
          },
          "metadata": {},
          "output_type": "display_data"
        }
      ]
    },
    {
      "cell_type": "code",
      "metadata": {
        "colab": {
          "base_uri": "https://localhost:8080/"
        },
        "id": "8i5oBLAtj__K",
        "outputId": "51cc1448-085a-4e65-a83a-a5afeaf901d1"
      },
      "source": [
        "print(\"Accuracy of Train Dataset\", round(net.Calc_acc(X_train, Y_train), 2), \"%\")\n",
        "print(\"Accuracy of Test Dataset\", round(net.Calc_acc(X_test, Y_test), 2), \"%\")"
      ],
      "execution_count": null,
      "outputs": [
        {
          "name": "stdout",
          "output_type": "stream",
          "text": [
            "Accuracy of Train Dataset 100.0 %\n",
            "Accuracy of Test Dataset 73.71 %\n"
          ]
        }
      ]
    },
    {
      "cell_type": "markdown",
      "metadata": {
        "id": "A4KYWUZEkAil"
      },
      "source": [
        "##2. Sử dụng keras"
      ]
    },
    {
      "cell_type": "code",
      "metadata": {
        "id": "SV-FpLAcovhT"
      },
      "source": [
        "from sklearn.model_selection import train_test_split \n",
        "X_train, X_val, Y_train, Y_val = train_test_split(X_train, Y_train, test_size = 0.2, random_state = None)\n"
      ],
      "execution_count": null,
      "outputs": []
    },
    {
      "cell_type": "code",
      "metadata": {
        "id": "PhLvBu9nkCCa"
      },
      "source": [
        "# Build model\n",
        "from keras import Sequential\n",
        "model = Sequential()\n",
        "\n",
        "from keras.layers import Dense\n",
        "model.add(Dense(512, input_dim = 784, activation = 'tanh'))\n",
        "model.add(Dense(256, activation = 'tanh'))\n",
        "model.add(Dense(64, activation = 'tanh'))\n",
        "model.add(Dense(10, activation = 'softmax'))\n",
        "\n",
        "# Summary model\n",
        "model.summary()"
      ],
      "execution_count": null,
      "outputs": []
    },
    {
      "cell_type": "code",
      "metadata": {
        "id": "WPK_yJH5oY7n"
      },
      "source": [
        "# Compile model\n",
        "from keras.optimizers import SGD\n",
        "model.compile(loss = 'categorical_crossentropy', optimizer = 'adam', metrics = ['accuracy'])"
      ],
      "execution_count": null,
      "outputs": []
    },
    {
      "cell_type": "code",
      "metadata": {
        "id": "lF3e3-S6ocZV"
      },
      "source": [
        "#   Callback function:  https://www.miai.vn/2020/09/05/keras-callbacks-tro-thu-dac-luc-khi-train-models/\n",
        "from keras.callbacks import EarlyStopping\n",
        "early_stop = EarlyStopping(monitor = 'val_loss', min_delta = 0, mode = 'auto', patience = 5, restore_best_weights = True)\n",
        "\n",
        "from keras.callbacks import ModelCheckpoint\n",
        "path = '/content/gdrive/MyDrive/Basic_DeepLearning/Neural_Network/checkpoint'\n",
        "checkpoint = ModelCheckpoint(path, monitor = 'val_accuracy', verbose = 1, save_best_only = True, mode = 'auto')\n",
        "\n",
        "import tensorflow as tf\n",
        "\n",
        "def scheduler(epoch, lr):\n",
        "    # Nếu dưới 5 epoch\n",
        "    if epoch < 5:\n",
        "        # Trả về lr\n",
        "        return float(lr)\n",
        "    else:\n",
        "        # Còn không thì trả về\n",
        "        return float(lr * tf.math.exp(-0.1))\n",
        "\n",
        "print(\"Learning rate ban đầu = \", round(model.optimizer.lr.numpy(), 5))\n",
        "from keras.callbacks import LearningRateScheduler\n",
        "lear_rate = LearningRateScheduler(scheduler)\n",
        "\n",
        "# Train model\n",
        "H = model.fit(X_train, Y_train, epochs = 50, batch_size = 150, verbose = 2, validation_data = (X_val, Y_val), callbacks = [early_stop, checkpoint, lear_rate])\n",
        "print(\"Learning rate sau khi train xong epochs = \", round(model.optimizer.lr.numpy(), 5))"
      ],
      "execution_count": null,
      "outputs": []
    },
    {
      "cell_type": "code",
      "metadata": {
        "id": "d0uEvl0RogYf"
      },
      "source": [
        "cost = H.history['loss']\n",
        "plt.plot(cost);"
      ],
      "execution_count": null,
      "outputs": []
    },
    {
      "cell_type": "code",
      "metadata": {
        "id": "gdkejRT5phUS"
      },
      "source": [
        "cost, accuracy = model.evaluate(X_test, Y_test, verbose = 0)\n",
        "print('Test loss:', cost)\n",
        "print('Test accuracy:', accuracy)"
      ],
      "execution_count": null,
      "outputs": []
    },
    {
      "cell_type": "markdown",
      "metadata": {
        "id": "hAhTjlkIpkVe"
      },
      "source": [
        "$=>$ Cost của tập Test khá cao"
      ]
    },
    {
      "cell_type": "code",
      "metadata": {
        "id": "W_tn4JZ6pklu"
      },
      "source": [
        "#   Save model\n",
        "model.save(\"/content/gdrive/MyDrive/Basic_DeepLearning/Neural_Network/My_model\")"
      ],
      "execution_count": null,
      "outputs": []
    },
    {
      "cell_type": "code",
      "metadata": {
        "id": "MCZ45N5DLlAp"
      },
      "source": [
        "lst = []\n",
        "a = np.random.randint(0, 10, (3, 4))\n",
        "lst.append(a)\n",
        "b = np.random.randint(0, 10, (4, 4))\n",
        "lst.append(b)\n",
        "c = np.random.randint(0, 10, (4, 1))\n",
        "lst.append(c)"
      ],
      "execution_count": null,
      "outputs": []
    }
  ]
}